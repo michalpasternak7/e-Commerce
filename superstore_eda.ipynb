{
 "cells": [
  {
   "cell_type": "markdown",
   "metadata": {},
   "source": [
    "# e-Commerce EDA"
   ]
  },
  {
   "cell_type": "markdown",
   "metadata": {},
   "source": [
    "useful links:\n",
    "- https://userpilot.com/blog/customer-growth/\n",
    "- https://chartio.com/learn/product-analytics/top-product-metrics/\n"
   ]
  },
  {
   "cell_type": "code",
   "execution_count": null,
   "metadata": {},
   "outputs": [],
   "source": [
    "# Imoports\n",
    "import pandas as pd\n",
    "import sqlite3\n",
    "import plotly.express as px"
   ]
  },
  {
   "cell_type": "markdown",
   "metadata": {},
   "source": [
    "## Load data set"
   ]
  },
  {
   "cell_type": "code",
   "execution_count": null,
   "metadata": {},
   "outputs": [],
   "source": [
    "# Connect SQLite database.\n",
    "db_conn = sqlite3.connect(\"SuperstoreDB/superstore.db\")"
   ]
  },
  {
   "cell_type": "markdown",
   "metadata": {},
   "source": [
    "An initial eda and data cleaning has been performed in superstore_db_preperartion.ipynb, so there is no need anymore to check for missing or duplicated data, etc."
   ]
  },
  {
   "cell_type": "markdown",
   "metadata": {},
   "source": [
    "## Orders"
   ]
  },
  {
   "cell_type": "code",
   "execution_count": null,
   "metadata": {},
   "outputs": [],
   "source": [
    "# Orders per year.\n",
    "orders_yearly = pd.read_sql(\n",
    "    \"\"\"\n",
    "    SELECT Year, COUNT (DISTINCT OrderID) AS OrderCount\n",
    "    FROM (\n",
    "        SELECT\n",
    "            *,\n",
    "            SUBSTR(OrderDate, 1, 4) AS Year\n",
    "        FROM Orders\n",
    "    )\n",
    "    GROUP BY Year\n",
    "\n",
    "    \"\"\", db_conn)\n",
    "\n",
    "# Calculate year-on-year percentage growth\n",
    "orders_yearly['YearOnYearGrowth'] = orders_yearly['OrderCount'].pct_change() * 100"
   ]
  },
  {
   "cell_type": "code",
   "execution_count": null,
   "metadata": {},
   "outputs": [],
   "source": [
    "fig = px.bar(orders_yearly,\n",
    "             x='Year',\n",
    "             y='OrderCount',\n",
    "             title='Orders Yearly')\n",
    "fig.show()"
   ]
  },
  {
   "cell_type": "markdown",
   "metadata": {},
   "source": [
    "**Observation**: The ammount of orders per year has been growing steadily between 2014 and 2017. When compared to the plot above showing 'Customer Count Per Year', we can see that the order count per year is growing quicker."
   ]
  },
  {
   "cell_type": "code",
   "execution_count": null,
   "metadata": {},
   "outputs": [],
   "source": [
    "# Year-on-year growth of order numbers in percentage.\n",
    "fig = px.bar(orders_yearly,\n",
    "             x='Year',\n",
    "             y='YearOnYearGrowth',\n",
    "             title='Year-on-Year Order Growth (%)')\n",
    "fig.show()"
   ]
  },
  {
   "cell_type": "markdown",
   "metadata": {},
   "source": [
    "**Observation**: By checking the year-on-year growth of order amount, we can see that company is growing each year more than the last one. So we could say the growth is exponential. this is very good news, especially when we compare those numbers to the relatively stagnant customer count per year. We could conclude that even though our customer base is not growing fast, their demand still is."
   ]
  },
  {
   "cell_type": "code",
   "execution_count": null,
   "metadata": {},
   "outputs": [],
   "source": [
    "# Orders per month.\n",
    "orders_monthly_over_years = pd.read_sql(\n",
    "    \"\"\"\n",
    "    SELECT\n",
    "    SUBSTR(OrderDate, 1, 4) AS Year,\n",
    "    SUBSTR(OrderDate, 6, 2) AS Month,\n",
    "    COUNT(OrderID) AS OrderCount\n",
    "    FROM Orders\n",
    "    GROUP BY Year, Month\n",
    "    \"\"\", db_conn)\n",
    "\n",
    "fig = px.line(orders_monthly_over_years,\n",
    "              x='Month',\n",
    "              y='OrderCount',\n",
    "              color='Year',\n",
    "              title='Orders Monthly')\n",
    "fig.show()\n"
   ]
  },
  {
   "cell_type": "markdown",
   "metadata": {},
   "source": [
    "**Observation**: Looking at the monthly number of orders, there seems to be a recurring trend of more orders being made at the end of the year in September, November and December. There is a small dip in November. There is a lower demand in January and February."
   ]
  },
  {
   "cell_type": "code",
   "execution_count": null,
   "metadata": {},
   "outputs": [],
   "source": [
    "# Orders per day of week.\n",
    "orders_per_day_of_week = pd.read_sql(\n",
    "    \"\"\"\n",
    "    SELECT \n",
    "    STRFTIME('%w', OrderDate) AS DayOfWeek,\n",
    "    Segment,\n",
    "    COUNT(*) AS OrderCount\n",
    "    FROM Orders\n",
    "    JOIN Customers\n",
    "    ON Customers.CustomerID = Orders.CustomerID\n",
    "    GROUP BY DayOfWeek, Segment;\n",
    "    \"\"\", db_conn)\n",
    "\n",
    "# The output of STRFTIME are numbers (0 for Sunday, 1 for Monday, and so on, up to 6 for Saturday) so we will convert them for readibility.\n",
    "# Define a dictionary to map numerical day of the week to day names.\n",
    "day_names = {\n",
    "    '0': 'Sunday',\n",
    "    '1': 'Monday',\n",
    "    '2': 'Tuesday',\n",
    "    '3': 'Wednesday',\n",
    "    '4': 'Thursday',\n",
    "    '5': 'Friday',\n",
    "    '6': 'Saturday'\n",
    "}\n",
    "\n",
    "# Replace numerical day of the week with day names.\n",
    "orders_per_day_of_week['DayOfWeek'] = orders_per_day_of_week['DayOfWeek'].map(day_names)\n",
    "\n",
    "fig = px.bar(orders_per_day_of_week,\n",
    "             x='DayOfWeek',\n",
    "             y='OrderCount',\n",
    "             color='Segment',\n",
    "             barmode='group',\n",
    "             title='Orders per Day of Week')\n",
    "fig.show()"
   ]
  },
  {
   "cell_type": "markdown",
   "metadata": {},
   "source": [
    "**Observation**: The least orders are made on Wednesday and the highest amount of orders is placed at the start and end of the workweek (Monady and Friday). What is a bit surprising, a lot of orders get's placed on the weekend, even by corporate customers."
   ]
  },
  {
   "cell_type": "code",
   "execution_count": null,
   "metadata": {},
   "outputs": [],
   "source": [
    "# Orders per day of month.\n",
    "orders_per_day_of_month = pd.read_sql(\n",
    "    \"\"\"\n",
    "    SELECT Day, COUNT (DISTINCT OrderID) AS OrderCount\n",
    "    FROM (\n",
    "        SELECT\n",
    "            *,\n",
    "            SUBSTR(OrderDate, 9, 2) AS Day\n",
    "        FROM Orders\n",
    "    )\n",
    "    GROUP BY Day\n",
    "\n",
    "    \"\"\", db_conn)\n",
    "\n",
    "fig = px.bar(orders_per_day_of_month,\n",
    "             x='Day',\n",
    "             y='OrderCount',\n",
    "             title='Orders per Day of Month')\n",
    "fig.show()"
   ]
  },
  {
   "cell_type": "markdown",
   "metadata": {},
   "source": [
    "**Observation**: There is no visible trend when it comes to amount of orders per day of month. The drop at the end of the month can be explained by months having different amount of days."
   ]
  },
  {
   "cell_type": "code",
   "execution_count": null,
   "metadata": {},
   "outputs": [],
   "source": [
    "# Which states made the highest number of orders?\n",
    "orders_per_state = pd.read_sql(\n",
    "    \"\"\"\n",
    "    SELECT\n",
    "    Region,\n",
    "    State,\n",
    "    COUNT(*) AS \"Orders\"\n",
    "    FROM Orders\n",
    "    JOIN Addresses\n",
    "    ON Orders.AddressID = Addresses.AddressID\n",
    "    GROUP BY Region, State\n",
    "    \"\"\", db_conn)\n",
    "\n",
    "fig = px.sunburst(orders_per_state,\n",
    "                  path=['Region', 'State'],\n",
    "                  values='Orders',\n",
    "                  title='Number of Orders by State')\n",
    "fig.show()"
   ]
  },
  {
   "cell_type": "code",
   "execution_count": null,
   "metadata": {},
   "outputs": [],
   "source": [
    "# Which states made the highest number of orders? (in percentage)\n",
    "orders_per_state = pd.read_sql(\n",
    "    \"\"\"\n",
    "    SELECT\n",
    "    Region,\n",
    "    State,\n",
    "    COUNT(*) AS \"Orders\"\n",
    "    FROM Orders\n",
    "    JOIN Addresses\n",
    "    ON Orders.AddressID = Addresses.AddressID\n",
    "    GROUP BY Region, State\n",
    "    \"\"\", db_conn)\n",
    "\n",
    "orders_per_state['Orders (%)'] = round(orders_per_state['Orders'] / orders_per_state['Orders'].sum(), 2) * 100\n",
    "\n",
    "fig = px.sunburst(orders_per_state,\n",
    "                  path=['Region', 'State'],\n",
    "                  values='Orders (%)',\n",
    "                  title='Number of Orders by State (%)')\n",
    "fig.show()"
   ]
  },
  {
   "cell_type": "markdown",
   "metadata": {},
   "source": [
    "**Observation**: Most of the orders come from California, New York and Texas. With those 3 states together being responsible for over 40% of the orders. "
   ]
  },
  {
   "cell_type": "markdown",
   "metadata": {},
   "source": [
    "## Sales"
   ]
  },
  {
   "cell_type": "code",
   "execution_count": null,
   "metadata": {},
   "outputs": [],
   "source": [
    "# Monthly Sales\n",
    "sales_monthly_over_years = pd.read_sql(\n",
    "    \"\"\"\n",
    "    SELECT\n",
    "    SUBSTR(OrderDate, 1, 4) AS Year,\n",
    "    SUBSTR(OrderDate, 6, 2) AS Month,\n",
    "    SUM(Sales) / 100.0 AS Sales\n",
    "    FROM Orders\n",
    "    JOIN OrdersDetails\n",
    "    ON Orders.OrderID = OrdersDetails.OrderID\n",
    "    GROUP BY Year, Month\n",
    "    \"\"\", db_conn)\n",
    "\n",
    "fig = px.line(sales_monthly_over_years, x='Month', y='Sales', color='Year', title='Sales Monthly')\n",
    "fig.show()"
   ]
  },
  {
   "cell_type": "markdown",
   "metadata": {},
   "source": [
    "**Observation**: We can see that the sales numbers follow the ammount of orders. There seems to be a recurring trend of more sales being made at the end of the year in September, November and December. There is a small dip in November. There is a lower demand in January and February."
   ]
  },
  {
   "cell_type": "code",
   "execution_count": null,
   "metadata": {},
   "outputs": [],
   "source": [
    "# Which states made the highest sales?\n",
    "sales_per_state = pd.read_sql(\n",
    "    \"\"\"\n",
    "    SELECT\n",
    "    Region,\n",
    "    State,\n",
    "    SUM(Sales)/100.0 AS \"Sales ($)\"\n",
    "    FROM Orders\n",
    "    JOIN Addresses\n",
    "    ON Orders.AddressID = Addresses.AddressID\n",
    "    JOIN OrdersDetails\n",
    "    ON Orders.OrderID = OrdersDetails.OrderID\n",
    "    GROUP BY Region, State\n",
    "    \"\"\", db_conn)\n",
    "\n",
    "fig = px.sunburst(sales_per_state,\n",
    "                  path=['Region', 'State'],\n",
    "                  values='Sales ($)',\n",
    "                  title='Sales by State')\n",
    "fig.show()"
   ]
  },
  {
   "cell_type": "code",
   "execution_count": null,
   "metadata": {},
   "outputs": [],
   "source": [
    "# Which states made the highest sales? (in percentage)\n",
    "sales_per_state = pd.read_sql(\n",
    "    \"\"\"\n",
    "    SELECT\n",
    "    Region,\n",
    "    State,\n",
    "    SUM(Sales)/100.0 AS \"Sales ($)\"\n",
    "    FROM Orders\n",
    "    JOIN Addresses\n",
    "    ON Orders.AddressID = Addresses.AddressID\n",
    "    JOIN OrdersDetails\n",
    "    ON Orders.OrderID = OrdersDetails.OrderID\n",
    "    GROUP BY Region, State\n",
    "    \"\"\", db_conn)\n",
    "\n",
    "sales_per_state['Sales (%)'] = round(sales_per_state['Sales ($)'] / sales_per_state['Sales ($)'].sum(), 2) * 100\n",
    "\n",
    "fig = px.sunburst(sales_per_state,\n",
    "                  path=['Region', 'State'],\n",
    "                  values='Sales (%)',\n",
    "                  title='Sales by State (%)')\n",
    "fig.show()"
   ]
  },
  {
   "cell_type": "markdown",
   "metadata": {},
   "source": [
    "**Observation**: Here also the three top states are California (20%), New York (14%) and Texas (7%). What is interesting is that New York generates more sales revenue per order (it's responsible for 14% of sales, having 11% of orders) and Texas (it's responsible for 7% of sales, having 10% of orders) less. Calofornia is in the middle, generating 20% of sales and having 20% of orders."
   ]
  },
  {
   "cell_type": "markdown",
   "metadata": {},
   "source": [
    "## Profit"
   ]
  },
  {
   "cell_type": "code",
   "execution_count": null,
   "metadata": {},
   "outputs": [],
   "source": [
    "# Monthly Profit\n",
    "sales_monthly_over_years = pd.read_sql(\n",
    "    \"\"\"\n",
    "    SELECT\n",
    "    SUBSTR(OrderDate, 1, 4) AS Year,\n",
    "    SUBSTR(OrderDate, 6, 2) AS Month,\n",
    "    SUM(Profit) / 100.0 AS Profit \n",
    "    FROM Orders\n",
    "    JOIN OrdersDetails\n",
    "    ON Orders.OrderID = OrdersDetails.OrderID\n",
    "    GROUP BY Year, Month\n",
    "    \"\"\", db_conn)\n",
    "\n",
    "fig = px.line(sales_monthly_over_years,\n",
    "              x='Month',\n",
    "              y='Profit',\n",
    "              color='Year',\n",
    "              title='Profit Monthly')\n",
    "fig.show()"
   ]
  },
  {
   "cell_type": "markdown",
   "metadata": {},
   "source": [
    "**Observation**: There seems to be no real monthly pattern occuring in the data when it comes to profit. There have been two months where the company had a loss. Those were July 2014 and January 2015."
   ]
  },
  {
   "cell_type": "code",
   "execution_count": null,
   "metadata": {},
   "outputs": [],
   "source": [
    "# Which states made the highest profit?\n",
    "profit_per_state = pd.read_sql(\n",
    "    \"\"\"\n",
    "    SELECT\n",
    "    Region,\n",
    "    State,\n",
    "    SUM(Profit)/100.0 AS \"Profit ($)\"\n",
    "    FROM Orders\n",
    "    JOIN Addresses\n",
    "    ON Orders.AddressID = Addresses.AddressID\n",
    "    JOIN OrdersDetails\n",
    "    ON Orders.OrderID = OrdersDetails.OrderID\n",
    "    GROUP BY Region, State\n",
    "    ORDER BY \"Profit ($)\"\n",
    "    \"\"\", db_conn)\n",
    "\n",
    "fig = px.bar(profit_per_state,\n",
    "             x='State',\n",
    "             y='Profit ($)',\n",
    "             color='Region',\n",
    "             title='Profit by State')\n",
    "fig.show()"
   ]
  },
  {
   "cell_type": "markdown",
   "metadata": {},
   "source": [
    "**Observation**: There is some states that have generated loss. Interstingly one of them is Texas, which makes also for a big part of orders and sales. On the other end, as the highest profit states, we can see New York and California. In all the regions there are states that bring profit and states that bring loss."
   ]
  },
  {
   "cell_type": "code",
   "execution_count": null,
   "metadata": {},
   "outputs": [],
   "source": [
    "# Which states made the highest profit?\n",
    "# Did that change over the years?\n",
    "profit_per_state_yearly = pd.read_sql(\n",
    "    \"\"\"\n",
    "    SELECT\n",
    "    State,\n",
    "    SUBSTR(OrderDate, 1, 4) AS Year,\n",
    "    SUM(Profit)/100.0 AS \"Profit ($)\"\n",
    "    FROM Orders\n",
    "    JOIN Addresses\n",
    "    ON Orders.AddressID = Addresses.AddressID\n",
    "    JOIN OrdersDetails\n",
    "    ON Orders.OrderID = OrdersDetails.OrderID\n",
    "    GROUP BY Year, State\n",
    "    ORDER BY Year, \"Profit ($)\"\n",
    "    \"\"\", db_conn)\n",
    "\n",
    "fig = px.bar(profit_per_state_yearly,\n",
    "             x='State',\n",
    "             y='Profit ($)',\n",
    "             color='Year',\n",
    "             barmode='group',\n",
    "             title='Profit by State over Years')\n",
    "fig.show()"
   ]
  },
  {
   "cell_type": "markdown",
   "metadata": {},
   "source": [
    "**Observation**: There is some states where from the beginning the company is making a loss. Those are Texas, Pennsylvania, Ohio, Illinois, Oregon. There is also some states where there was only one year with a positive profit: North Carolina, Florida, Arizona and Colorado. About half of the states also just have very low profit numbers, probably due to low actvity."
   ]
  },
  {
   "cell_type": "code",
   "execution_count": null,
   "metadata": {},
   "outputs": [],
   "source": [
    "# Make a map showing the states generating the most and least profit.\n",
    "profit_per_state = pd.read_sql(\n",
    "    \"\"\"\n",
    "    SELECT\n",
    "    State,\n",
    "    SUM(Profit)/100.0 AS \"Profit ($)\"\n",
    "    FROM Orders\n",
    "    JOIN Addresses\n",
    "    ON Orders.AddressID = Addresses.AddressID\n",
    "    JOIN OrdersDetails\n",
    "    ON Orders.OrderID = OrdersDetails.OrderID\n",
    "    GROUP BY State\n",
    "    ORDER BY \"Profit ($)\"\n",
    "    \"\"\", db_conn)\n",
    "\n",
    "# Load the US codes required by the px.choropleth map.\n",
    "us_codes = pd.read_json(\"Helpers/states_titlecase.json\")\n",
    "\n",
    "# Merge them into our data.\n",
    "profit_per_state = profit_per_state.merge(us_codes, left_on='State', right_on='name', how='left')\n",
    "\n",
    "# Make a map showing the states colored by profit.\n",
    "fig = px.choropleth(\n",
    "    profit_per_state,\n",
    "    scope=\"usa\",\n",
    "    locations='abbreviation',  # Use 'State' column as location\n",
    "    locationmode='USA-states',  # Set location mode to USA states\n",
    "    color='Profit ($)',  # Color based on profit\n",
    "    color_continuous_scale='RdYlGn',  # Choose color scale\n",
    "    labels={'Profit ($)': 'Profit ($)'},  # Label for color bar\n",
    "    title='Profit by State'  # Title of the plot\n",
    ")\n",
    "\n",
    "# Show the plot\n",
    "fig.show()"
   ]
  },
  {
   "cell_type": "code",
   "execution_count": null,
   "metadata": {},
   "outputs": [],
   "source": [
    "# Make a map showing the 5 states generating the most and least profit.\n",
    "# Sort the profit_per_state DataFrame by \"Profit ($)\" column\n",
    "profit_per_state_sorted = profit_per_state.sort_values(by=\"Profit ($)\", ascending=False)\n",
    "\n",
    "# Get the top 5 and bottom 5 states based on sales revenue\n",
    "top_5_states = profit_per_state_sorted.head(5)\n",
    "bottom_5_states = profit_per_state_sorted.tail(5)\n",
    "\n",
    "# Create a new column indicating whether each state is in the top or bottom group\n",
    "profit_per_state_sorted['Group'] = ''  # Initialize the 'Group' column\n",
    "profit_per_state_sorted.loc[top_5_states.index, 'Group'] = 'Top 5'\n",
    "profit_per_state_sorted.loc[bottom_5_states.index, 'Group'] = 'Bottom 5'\n",
    "\n",
    "# Filter the DataFrame to include only the top 5 and bottom 5 states\n",
    "selected_states = profit_per_state_sorted[(profit_per_state_sorted['Group'] == 'Top 5') | (profit_per_state_sorted['Group'] == 'Bottom 5')]\n",
    "\n",
    "# Create the choropleth map using Plotly Express\n",
    "fig = px.choropleth(\n",
    "    selected_states,\n",
    "    scope=\"usa\",\n",
    "    locations='abbreviation',  # Use 'State' column as location\n",
    "    locationmode='USA-states',  # Set location mode to USA states\n",
    "    color='Group',  # Color based on the group column\n",
    "    color_discrete_map={'Top 5': 'green', 'Bottom 5': 'red'},  # Assign colors to groups\n",
    "    labels={'Group': 'Group'},  # Label for color legend\n",
    "    title='Top and Bottom 5 States by Profit',  # Title of the plot\n",
    "    hover_data={'abbreviation': False, 'Profit ($)': ':,.2f', 'State': True}  # Customize hover information\n",
    ")\n",
    "\n",
    "# Show the plot\n",
    "fig.show()"
   ]
  },
  {
   "cell_type": "markdown",
   "metadata": {},
   "source": [
    "## Customers"
   ]
  },
  {
   "cell_type": "code",
   "execution_count": null,
   "metadata": {},
   "outputs": [],
   "source": [
    "# Unique customers per year.\n",
    "customers_per_year = pd.read_sql(\n",
    "    \"\"\"\n",
    "    SELECT Year, COUNT (DISTINCT CustomerID) AS CustomerCount\n",
    "    FROM (\n",
    "        SELECT\n",
    "            *,\n",
    "            SUBSTR(OrderDate, 1, 4) AS Year\n",
    "        FROM Orders\n",
    "    )\n",
    "    GROUP BY Year\n",
    "\n",
    "    \"\"\", db_conn)\n",
    "\n",
    "fig = px.bar(customers_per_year,\n",
    "             x='Year',\n",
    "             y='CustomerCount',\n",
    "             title='Customer Count Per Year')\n",
    "fig.show()"
   ]
  },
  {
   "cell_type": "markdown",
   "metadata": {},
   "source": [
    "**Observation**: The amount of active users is slightly increasing over the years with a small dip in 2015. We define a user as active if they placed at least one order in a given year."
   ]
  },
  {
   "cell_type": "code",
   "execution_count": null,
   "metadata": {},
   "outputs": [],
   "source": [
    "# Which customers made the highest number of orders?\n",
    "orders_per_customer_segment = pd.read_sql(\n",
    "    \"\"\"\n",
    "    SELECT\n",
    "    Segment,\n",
    "    COUNT(*) AS \"Orders\"\n",
    "    FROM Orders\n",
    "    JOIN Customers\n",
    "    ON Orders.CustomerID = Customers.CustomerID\n",
    "    GROUP BY Segment\n",
    "    \"\"\", db_conn)\n",
    "\n",
    "fig = px.pie(orders_per_customer_segment,\n",
    "             values='Orders',\n",
    "             names='Segment',\n",
    "             title='Orders by Customer Segment')\n",
    "fig.show()"
   ]
  },
  {
   "cell_type": "markdown",
   "metadata": {},
   "source": [
    "**Observation**: Most of the customers come from the consumer segment."
   ]
  },
  {
   "cell_type": "code",
   "execution_count": null,
   "metadata": {},
   "outputs": [],
   "source": [
    "# Which customers made the highest sales?\n",
    "sales_per_customer_segment = pd.read_sql(\n",
    "    \"\"\"\n",
    "    SELECT\n",
    "    Segment,\n",
    "    SUM(Sales)/100.0 AS \"Sales ($)\"\n",
    "    FROM Orders\n",
    "    JOIN Customers\n",
    "    ON Orders.CustomerID = Customers.CustomerID\n",
    "    JOIN OrdersDetails\n",
    "    ON Orders.OrderID = OrdersDetails.OrderID\n",
    "    GROUP BY Segment\n",
    "    \"\"\", db_conn)\n",
    "\n",
    "sales_per_customer_segment\n",
    "fig = px.pie(sales_per_customer_segment,\n",
    "             values=\"Sales ($)\",\n",
    "             names='Segment',\n",
    "             title='Sales by Customer Segment')\n",
    "fig.show()"
   ]
  },
  {
   "cell_type": "markdown",
   "metadata": {},
   "source": [
    "**Observation**: Most sales were done to customers from the consumer segment. The whole plot has almost the same proportions as the 'Orders by Customer Segment' plot, indicating a strong correlation."
   ]
  },
  {
   "cell_type": "code",
   "execution_count": null,
   "metadata": {},
   "outputs": [],
   "source": [
    "# Which customers made the highest profit?\n",
    "profit_per_customer_segment = pd.read_sql(\n",
    "    \"\"\"\n",
    "    SELECT\n",
    "    Segment,\n",
    "    SUM(Profit)/100.0 AS \"Profit ($)\"\n",
    "    FROM Orders\n",
    "    JOIN Customers\n",
    "    ON Orders.CustomerID = Customers.CustomerID\n",
    "    JOIN OrdersDetails\n",
    "    ON Orders.OrderID = OrdersDetails.OrderID\n",
    "    GROUP BY Segment\n",
    "    \"\"\", db_conn)\n",
    "\n",
    "fig = px.pie(profit_per_customer_segment,\n",
    "             values=\"Profit ($)\",\n",
    "             names='Segment',\n",
    "             title='Profit by Customer Segment')\n",
    "fig.show()"
   ]
  },
  {
   "cell_type": "markdown",
   "metadata": {},
   "source": [
    "**Observation**: Most profit also comes from the consumer segment customers, but in comparison to the sales and orders numbers, we can see that the proportions change a bit. So per order and per sale, consumer level customers bring in slightly less profit. Corporate and home office customers bring in higher profit with the same ammount of orders/sales."
   ]
  },
  {
   "cell_type": "code",
   "execution_count": null,
   "metadata": {},
   "outputs": [],
   "source": [
    "# Analyse customer segments on order count, order quantity, profit and sales.\n",
    "customers_df = pd.read_sql(\n",
    "    \"\"\"\n",
    "    SELECT\n",
    "    Customers.CustomerID,\n",
    "    Segment,\n",
    "    COUNT(*) AS OrderCount,\n",
    "    SUM(Quantity) AS OrderQuantity,\n",
    "    SUM(Profit) / 100.0 AS \"Profit ($)\",\n",
    "    SUM(Sales) / 100.0 AS \"Sales ($)\"\n",
    "    FROM Orders\n",
    "    JOIN Customers\n",
    "    ON Orders.CustomerID = Customers.CustomerID\n",
    "    JOIN OrdersDetails\n",
    "    ON Orders.OrderID = OrdersDetails.OrderID\n",
    "    GROUP BY Customers.CustomerID\n",
    "    \"\"\", db_conn)"
   ]
  },
  {
   "cell_type": "code",
   "execution_count": null,
   "metadata": {},
   "outputs": [],
   "source": [
    "# Define color mappings for segments\n",
    "color_map = {'Consumer': 'blue', 'Corporate': 'green', 'Home Office': 'red'}\n",
    "\n",
    "for i in ['OrderCount', 'OrderQuantity', 'Profit ($)', 'Sales ($)']:\n",
    "    # Calculate the average y value\n",
    "    average_y = customers_df[i].mean()\n",
    "\n",
    "    # Plot the bar chart with specified color mapping\n",
    "    fig = px.bar(customers_df.sort_values(i), x='CustomerID', y=i, color='Segment', color_discrete_map=color_map)\n",
    "\n",
    "    # Add a horizontal line for the average y value\n",
    "    fig.add_hline(y=average_y, line_dash=\"dot\", annotation_text=f'Average {i}: {average_y:.2f}', annotation_position=\"bottom right\")\n",
    "\n",
    "    # Show the plot\n",
    "    fig.show()\n"
   ]
  },
  {
   "cell_type": "markdown",
   "metadata": {},
   "source": [
    "**Observation**:\n",
    "\n",
    "- **Order Count** - what's interesting here is that the vast majority of customers has placed multiple orders at our company. Only a few customers have never made a second order. On average each customer made over 12 orders in the past 4 years and this statistioc does not even account for the fact that part of the customers is with us shorter than the 4 years.\n",
    "\n",
    "- **Order Quantity** - shows a very similar line to Order Count. The customers have ordered on average over 47 items.\n",
    "\n",
    "- **Profit ($)** - This is the most interesting, because it shows us that there are certain customers, that bring us a net loss!\n",
    "\n",
    "- **Sales ($)** - This again follows the same shape as order count and quantity, which is not surprising."
   ]
  },
  {
   "cell_type": "markdown",
   "metadata": {},
   "source": [
    "# Customer Growth"
   ]
  },
  {
   "cell_type": "markdown",
   "metadata": {},
   "source": [
    "New customer growth rate is the speed at which you gain new customers over defined periods of time. Growth rate is usually measured with a monthly period. Growth rate measured in this way is commonly referred to as month over month growth.\n",
    "Calculated correctly, the new customer growth rate helps you understand your overall success in attracting new customers."
   ]
  },
  {
   "cell_type": "code",
   "execution_count": null,
   "metadata": {},
   "outputs": [],
   "source": [
    "# Create a plot showing how many new customers there was in each month.\n",
    "new_customers_per_month = pd.read_sql(\n",
    "    \"\"\"\n",
    "    SELECT\n",
    "    SUBSTR(FirstOrderDate, 1, 4) AS Year,\n",
    "    SUBSTR(FirstOrderDate, 6, 2) AS Month,\n",
    "    COUNT(CustomerID) AS NewCustomers\n",
    "    FROM (\n",
    "        SELECT\n",
    "        Orders.CustomerID,\n",
    "        MIN(OrderDate) AS FirstOrderDate\n",
    "        FROM Orders\n",
    "        JOIN Customers\n",
    "        ON Orders.CustomerID = Customers.CustomerID\n",
    "        JOIN OrdersDetails\n",
    "        ON Orders.OrderID = OrdersDetails.OrderID\n",
    "        GROUP BY Orders.CustomerID\n",
    "    )\n",
    "    GROUP BY Year, Month\n",
    "    \"\"\", db_conn)\n",
    "\n",
    "new_customers_per_month\n",
    "\n",
    "# Plot the growth rate over the months\n",
    "fig = px.line(new_customers_per_month,\n",
    "              x='Month',\n",
    "              y='NewCustomers',\n",
    "              color='Year',\n",
    "              title='New Customers Monthly')\n",
    "fig.show()\n"
   ]
  },
  {
   "cell_type": "markdown",
   "metadata": {},
   "source": [
    "**Observation**: Most of of the customers joined in 2014, where the company was gaining on average over 40 new customers a month. After that, the growth was dropping year by year, having less tha 10 new customers a month over the last two years (2016 and 2017) with some months, where there have been 0 new customers like January, February and December 2017."
   ]
  },
  {
   "cell_type": "code",
   "execution_count": null,
   "metadata": {},
   "outputs": [],
   "source": [
    "# Create a plot showing the growth rate of new customers over the months.\n",
    "new_customers_per_month = pd.read_sql(\n",
    "    \"\"\"\n",
    "    SELECT\n",
    "    SUBSTR(FirstOrderDate, 1, 7) AS YearMonth,\n",
    "    COUNT(CustomerID) AS NewCustomers\n",
    "    FROM (\n",
    "        SELECT\n",
    "        Orders.CustomerID,\n",
    "        MIN(OrderDate) AS FirstOrderDate\n",
    "        FROM Orders\n",
    "        JOIN Customers\n",
    "        ON Orders.CustomerID = Customers.CustomerID\n",
    "        JOIN OrdersDetails\n",
    "        ON Orders.OrderID = OrdersDetails.OrderID\n",
    "        GROUP BY Orders.CustomerID\n",
    "    )\n",
    "    GROUP BY YearMonth\n",
    "    \"\"\", db_conn)\n",
    "\n",
    "# Calculate cumulative sum of new customers\n",
    "new_customers_per_month['CumulativeNewCustomers'] = new_customers_per_month['NewCustomers'].cumsum()\n",
    "\n",
    "# Calculate monthly growth rate of customers\n",
    "new_customers_per_month['NewCustomerGrowthRate'] = (new_customers_per_month['NewCustomers']/new_customers_per_month['CumulativeNewCustomers']) * 100\n",
    "\n",
    "# Split YearMonth column into Year and Month\n",
    "new_customers_per_month[['Year', 'Month']] = new_customers_per_month['YearMonth'].str.split('-', expand=True)\n",
    "\n",
    "# Plot the growth rate of new customers over the months\n",
    "fig = px.line(new_customers_per_month,\n",
    "              x='YearMonth',\n",
    "              y='NewCustomers',\n",
    "              title='New Customers Over Time')\n",
    "fig.update_xaxes(title='Month')\n",
    "fig.update_yaxes(title='Number of New Customers')\n",
    "fig.show()"
   ]
  },
  {
   "cell_type": "markdown",
   "metadata": {},
   "source": [
    "**Observation**: An alternative way of showing 'New Customers Monthly' would be the graph above, where all years are represented on one line and we can see a significant decline in new customers at the beginning of 2015."
   ]
  },
  {
   "cell_type": "code",
   "execution_count": null,
   "metadata": {},
   "outputs": [],
   "source": [
    "# Plot the growth of new customers over the months.\n",
    "fig = px.line(new_customers_per_month,\n",
    "              x='YearMonth',\n",
    "              y='CumulativeNewCustomers',\n",
    "              title='New Customers Over Time (Cumulative)')\n",
    "fig.update_xaxes(title='Month')\n",
    "fig.update_yaxes(title='Cumulative Number of New Customers')\n",
    "fig.show()"
   ]
  },
  {
   "cell_type": "markdown",
   "metadata": {},
   "source": [
    "**Observation**: In the cumulative view off new customers, we can see that the growth of the customer base started plateauing arround the beginning 2015 and almost flatened out in 2017. It suggests that the rate of acquiring new customers slowed down during that period. This plateauing and flattening could indicate a saturation point in customer acquisition efforts or a stabilization of the customer base."
   ]
  },
  {
   "cell_type": "code",
   "execution_count": null,
   "metadata": {},
   "outputs": [],
   "source": [
    "fig = px.line(new_customers_per_month,\n",
    "              x='Month',\n",
    "              y='NewCustomerGrowthRate',\n",
    "              color='Year',\n",
    "              title='Customer Growth Rate (%) Monthly')\n",
    "fig.update_yaxes(title='Customer Growt Rate (%)')\n",
    "fig.show()"
   ]
  },
  {
   "cell_type": "markdown",
   "metadata": {},
   "source": [
    "**Observation**: Looking at the month-over-month growth rate of customers calculated we can see that after the successfull 2014 where most of the customer base was built, the customer growth rate has been stuck at 1 - 3% of monthly growth in 2015, below 1% in 2016 and below 0.5% in 2017.\n",
    "\n",
    "The formula used is:\n",
    "\n",
    "Growth Rate = ((Total Customers at End of Period - Total Customers at Start of Period) / Total Customers at Start of Period) * 100%\n",
    "\n",
    "This formula calculates the percentage change in the number of customers from the start to the end of each period. This does not account for churn, the rate at which existing customers leave your company."
   ]
  },
  {
   "cell_type": "markdown",
   "metadata": {},
   "source": [
    "## Average Order Value\n",
    "\n",
    "Average order value (AOV) tracks the average dollar amount spent each time a customer places an order.  \n",
    "AOV  = Sales/Number od Orders"
   ]
  },
  {
   "cell_type": "code",
   "execution_count": null,
   "metadata": {},
   "outputs": [],
   "source": [
    "# Calculate Monthly Average Order Value\n",
    "# AOV = Revenue/TotalOrders\n",
    "monthly_aov = pd.read_sql(\n",
    "    \"\"\"\n",
    "    SELECT\n",
    "    SUBSTR(OrderDate, 1, 4) AS Year,\n",
    "    SUBSTR(OrderDate, 6, 2) AS Month,\n",
    "    SUM(Sales) / COUNT(*) / 100.0 AS AverageOrderValue\n",
    "    FROM Orders\n",
    "    JOIN OrdersDetails\n",
    "    ON Orders.OrderID = OrdersDetails.OrderID\n",
    "    JOIN Products\n",
    "    ON OrdersDetails.ProductID = Products.ProductID\n",
    "    GROUP BY Month, Year\n",
    "    \"\"\", db_conn)\n",
    "\n",
    "fig = px.line(monthly_aov,\n",
    "              x='Month',\n",
    "              y='AverageOrderValue',\n",
    "              color='Year',\n",
    "              title='Monthly Average Order Value')\n",
    "fig.show()"
   ]
  },
  {
   "cell_type": "markdown",
   "metadata": {},
   "source": [
    "**Observation**: The monthly AOV peaks usually in March. That's when there is also a slight peak after the January and February lows (the february low is also visible in the AOV) in order count and sales. For the rest of the year the AOV seems to fluctuate mostly between 170 and 260 with single spikes in the autumn months and in some years January."
   ]
  },
  {
   "cell_type": "code",
   "execution_count": null,
   "metadata": {},
   "outputs": [],
   "source": [
    "# Show yearly AOV.\n",
    "yearly_aov_sum = monthly_aov.groupby('Year')['AverageOrderValue'].sum().reset_index()\n",
    "yearly_aov_sum\n",
    "fig = px.bar(yearly_aov_sum,\n",
    "              x='Year',\n",
    "              y='AverageOrderValue',\n",
    "              title='Yearly Average Order Value')\n",
    "fig.show()"
   ]
  },
  {
   "cell_type": "markdown",
   "metadata": {},
   "source": [
    "**Observation**: The Yearly Average Order Value didn't move much in the 4 years. It peaked a bit in 2016 to drop again a bit in 2017."
   ]
  },
  {
   "cell_type": "markdown",
   "metadata": {},
   "source": [
    "## Average Profit Margin\n",
    "\n",
    "Profit Margin is typically expressed as a percentage, using the formula:\n",
    "\n",
    "*Profit Margin (%) = Profit/Sales * 100%*\n",
    "\n",
    "This formula helps to assess the efficiency of a business in generating profits relative to its sales.\n",
    "\n",
    "Applying this formula to calculate the profit margin for each transaction or aggregated over a period (e.g., monthly, yearly) to gain insights into the profitability of the business operations."
   ]
  },
  {
   "cell_type": "code",
   "execution_count": null,
   "metadata": {},
   "outputs": [],
   "source": [
    "# Monthly Sales and Profit\n",
    "average_profit_margin = pd.read_sql(\n",
    "    f\"\"\"\n",
    "    SELECT\n",
    "    SUBSTR(OrderDate, 1, 4) AS Year,\n",
    "    SUBSTR(OrderDate, 6, 2) AS Month,\n",
    "    SUM(Sales) / 100.0 AS Sales,\n",
    "    SUM(Profit) / 100.0 AS Profit\n",
    "    FROM Orders\n",
    "    JOIN OrdersDetails\n",
    "    ON Orders.OrderID = OrdersDetails.OrderID\n",
    "    GROUP BY Year, Month\n",
    "    \"\"\", db_conn)\n",
    "\n",
    "# Calculate Avg. Profit Margin\n",
    "average_profit_margin['ProfitMargin'] = average_profit_margin['Profit'] / average_profit_margin['Sales'] * 100\n",
    "\n",
    "# Combine Year and Month for ploting purposes\n",
    "average_profit_margin['YearMonth'] = average_profit_margin['Year'] + '-' + average_profit_margin['Month']"
   ]
  },
  {
   "cell_type": "code",
   "execution_count": null,
   "metadata": {},
   "outputs": [],
   "source": [
    "# Plot the growth of new customers over the months.\n",
    "fig = px.line(average_profit_margin,\n",
    "              x='YearMonth',\n",
    "              y='ProfitMargin',\n",
    "              title=f'Monthly Average Profit Margin')\n",
    "fig.update_xaxes(title='Month')\n",
    "fig.show()"
   ]
  },
  {
   "cell_type": "markdown",
   "metadata": {},
   "source": [
    "**Observation**: Aside from there being two dips into negative profit values in Jul 2014 (-2.48%) and Jan 2015 (18.05%), the company has been profitable."
   ]
  },
  {
   "cell_type": "markdown",
   "metadata": {},
   "source": [
    "## Products Sales vs Profit"
   ]
  },
  {
   "cell_type": "code",
   "execution_count": null,
   "metadata": {},
   "outputs": [],
   "source": [
    "# Sales and Profit per Product Category\n",
    "sales_profit_per_category = pd.read_sql(\n",
    "    \"\"\"\n",
    "    SELECT Category,\n",
    "    SUM(Sales)/100.0 AS \"Sales ($)\",\n",
    "    SUM(Profit)/100.0 AS \"Profit ($)\"\n",
    "    FROM OrdersDetails\n",
    "    JOIN Products ON OrdersDetails.ProductID = Products.ProductID\n",
    "    GROUP BY Category\n",
    "    \"\"\", db_conn)\n",
    "\n",
    "# Calculate percentage values for sales and profit\n",
    "sales_profit_per_category['Sales (%)'] = (sales_profit_per_category['Sales ($)'] / sales_profit_per_category['Sales ($)'].sum()) * 100\n",
    "sales_profit_per_category['Profit (%)'] = (sales_profit_per_category['Profit ($)'] / sales_profit_per_category['Profit ($)'].sum()) * 100"
   ]
  },
  {
   "cell_type": "code",
   "execution_count": null,
   "metadata": {},
   "outputs": [],
   "source": [
    "# Create bar chart with Sales and Profit per Product Category\n",
    "fig = px.bar(sales_profit_per_category,\n",
    "             x='Category',\n",
    "             y=['Sales ($)', 'Profit ($)'],\n",
    "             barmode='group',\n",
    "             title='Sales and Profit Comparison')\n",
    "fig.update_yaxes(title='USD ($)')\n",
    "\n",
    "# Show the plot\n",
    "fig.show()"
   ]
  },
  {
   "cell_type": "markdown",
   "metadata": {},
   "source": [
    "**Observation**: The sales-to-profit ratio for furniture looks quite bad. Investigate further using pie charts."
   ]
  },
  {
   "cell_type": "code",
   "execution_count": null,
   "metadata": {},
   "outputs": [],
   "source": [
    "# Visualize sales by product category in percentage\n",
    "fig_sales = px.pie(sales_profit_per_category,\n",
    "                   values='Sales (%)',\n",
    "                   names='Category',\n",
    "                   title='Sales (%) by Product Category')\n",
    "fig_sales.show()"
   ]
  },
  {
   "cell_type": "markdown",
   "metadata": {},
   "source": [
    "**Observation**: We see that the sales are almost evenly distributed among the 3 categories of products."
   ]
  },
  {
   "cell_type": "code",
   "execution_count": null,
   "metadata": {},
   "outputs": [],
   "source": [
    "# Visualize profit by product category in percentage\n",
    "fig_profit = px.pie(sales_profit_per_category,\n",
    "                    values='Profit (%)',\n",
    "                    names='Category',\n",
    "                    title='Profit (%) by Product Category')\n",
    "fig_profit.show()"
   ]
  },
  {
   "cell_type": "markdown",
   "metadata": {},
   "source": [
    "**Observation**: The profit on the other hand is comming mostly from technology and we almost don't make profit selling furniture."
   ]
  },
  {
   "cell_type": "code",
   "execution_count": null,
   "metadata": {},
   "outputs": [],
   "source": [
    "# Sales and Profit per Product SubCategory\n",
    "sales_profit_per_subcategory = pd.read_sql(\n",
    "    \"\"\"\n",
    "    SELECT\n",
    "    SubCategory,\n",
    "    Category,\n",
    "    SUM(Sales)/100.0 AS \"Sales ($)\",\n",
    "    SUM(Profit)/100.0 AS \"Profit ($)\"\n",
    "    FROM OrdersDetails\n",
    "    JOIN Products ON OrdersDetails.ProductID = Products.ProductID\n",
    "    GROUP BY SubCategory\n",
    "    ORDER BY \"Profit ($)\" DESC;\n",
    "    \"\"\", db_conn)\n",
    "\n",
    "# Calculate percentage values for sales and profit\n",
    "sales_profit_per_subcategory['Sales (%)'] = (sales_profit_per_subcategory['Sales ($)'] / sales_profit_per_subcategory['Sales ($)'].sum()) * 100\n",
    "sales_profit_per_subcategory['Profit (%)'] = (sales_profit_per_subcategory['Profit ($)'] / sales_profit_per_subcategory['Profit ($)'].sum()) * 100"
   ]
  },
  {
   "cell_type": "code",
   "execution_count": null,
   "metadata": {},
   "outputs": [],
   "source": [
    "# Create bar chart with Sales and Profit per Product SubCategory\n",
    "fig = px.bar(sales_profit_per_subcategory,\n",
    "             x='SubCategory',\n",
    "             y=['Sales ($)', 'Profit ($)'],\n",
    "             barmode='group',\n",
    "             title='Sales and Profit Comparison')\n",
    "fig.update_yaxes(title='USD ($)')\n",
    "\n",
    "# Show the plot\n",
    "fig.show()"
   ]
  },
  {
   "cell_type": "markdown",
   "metadata": {},
   "source": [
    "**Observation**: We make the most profit out of Copiers, Phones and Accessories and the least out of Tables, Bookcases and Supplies. On those, we basically lose money."
   ]
  },
  {
   "cell_type": "markdown",
   "metadata": {},
   "source": [
    "## Profit Margin for Product Sub-Categories"
   ]
  },
  {
   "cell_type": "markdown",
   "metadata": {},
   "source": [
    "Profit margin can also be used to measure the profitability of a product."
   ]
  },
  {
   "cell_type": "code",
   "execution_count": null,
   "metadata": {},
   "outputs": [],
   "source": [
    "# Calculate Profit Margin for Sub-Categories of Products.\n",
    "sales_profit_per_subcategory['ProfitMargin (%)'] = sales_profit_per_subcategory['Profit ($)']/sales_profit_per_subcategory['Sales ($)'] * 100"
   ]
  },
  {
   "cell_type": "code",
   "execution_count": null,
   "metadata": {},
   "outputs": [],
   "source": [
    "# Show Profit Margin for Product Sub-Categories\n",
    "fig = px.bar(sales_profit_per_subcategory.sort_values('ProfitMargin (%)', ascending=False),\n",
    "              x='SubCategory',\n",
    "              y='ProfitMargin (%)',\n",
    "              color='Category',\n",
    "              title='Profit Margin (%) for Product Sub-Categories')\n",
    "fig.show()"
   ]
  },
  {
   "cell_type": "markdown",
   "metadata": {},
   "source": [
    "**Observation**: The analysis of profit margin confirms taht the huge differences in proportion, when it comes to profit among the product categories comes from how much margin there company has on the product price."
   ]
  },
  {
   "cell_type": "markdown",
   "metadata": {},
   "source": [
    "## Discounts"
   ]
  },
  {
   "cell_type": "code",
   "execution_count": null,
   "metadata": {},
   "outputs": [],
   "source": [
    "# Discounts\n",
    "discounts = pd.read_sql(\n",
    "    \"\"\"\n",
    "    SELECT\n",
    "        Products.Category,\n",
    "        Products.SubCategory,\n",
    "        OrdersDetails.Discount,\n",
    "        COUNT(OrdersDetails.Discount) AS DiscountCount,\n",
    "        SubCatCount.SubCount,\n",
    "        ROUND((COUNT(OrdersDetails.Discount) * 100.0) / SubCatCount.SubCount, 2) AS DiscountCountPercentage\n",
    "    FROM OrdersDetails\n",
    "    JOIN Products ON OrdersDetails.ProductID = Products.ProductID\n",
    "    JOIN (\n",
    "        SELECT\n",
    "            SubCategory,\n",
    "            COUNT(SubCategory) AS SubCount\n",
    "        FROM OrdersDetails\n",
    "        JOIN Products ON OrdersDetails.ProductID = Products.ProductID\n",
    "        GROUP BY SubCategory\n",
    "    ) AS SubCatCount ON SubCatCount.SubCategory = Products.SubCategory\n",
    "    GROUP BY Products.Category, Products.SubCategory, OrdersDetails.Discount;\n",
    "\n",
    "    \"\"\", db_conn)"
   ]
  },
  {
   "cell_type": "code",
   "execution_count": null,
   "metadata": {},
   "outputs": [],
   "source": [
    "fig = px.bar(discounts,\n",
    "             x='SubCategory',\n",
    "             y='DiscountCountPercentage',\n",
    "             color='Discount',\n",
    "             #barmode='group',\n",
    "             title='Discounts per Product Sub-Category')\n",
    "fig.show()"
   ]
  }
 ],
 "metadata": {
  "kernelspec": {
   "display_name": "base",
   "language": "python",
   "name": "python3"
  },
  "language_info": {
   "codemirror_mode": {
    "name": "ipython",
    "version": 3
   },
   "file_extension": ".py",
   "mimetype": "text/x-python",
   "name": "python",
   "nbconvert_exporter": "python",
   "pygments_lexer": "ipython3",
   "version": "3.11.8"
  }
 },
 "nbformat": 4,
 "nbformat_minor": 2
}
